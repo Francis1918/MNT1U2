{
 "cells": [
  {
   "metadata": {},
   "cell_type": "markdown",
   "source": "Ejercicio #1.- Encuentre todas las raíces del polinomio x4+540∗x3+109124∗x2+9781632∗x+328188672=0\n",
   "id": "a6726a47f6a74f87"
  },
  {
   "cell_type": "code",
   "id": "initial_id",
   "metadata": {
    "collapsed": true,
    "ExecuteTime": {
     "end_time": "2025-05-06T21:40:18.603923Z",
     "start_time": "2025-05-06T21:40:17.411491Z"
    }
   },
   "source": [
    "import numpy as np\n",
    "import matplotlib.pyplot as plt\n",
    "from matplotlib.animation import FuncAnimation\n",
    "from IPython.display import HTML\n",
    "import matplotlib\n",
    "matplotlib.use('TkAgg')  # Usar el backend TkAgg que funciona mejor para animaciones\n",
    "\n",
    "# Definimos el polinomio y su derivada\n",
    "def f(x):\n",
    "    return x**4 + 540*x**3 + 109124*x**2 + 9781632*x + 328188672\n",
    "\n",
    "def f_prime(x):\n",
    "    return 4*x**3 + 3*540*x**2 + 2*109124*x + 9781632\n",
    "\n",
    "# Método de Newton-Raphson\n",
    "def newton_raphson(x0, tol=1e-6, max_iter=100):\n",
    "    x = x0\n",
    "    iteraciones = [x]\n",
    "    for _ in range(max_iter):\n",
    "        fx = f(x)\n",
    "        fpx = f_prime(x)\n",
    "        if abs(fpx) < 1e-12:  # Evitar división por cero\n",
    "            break\n",
    "        x_new = x - fx / fpx\n",
    "        iteraciones.append(x_new)\n",
    "        if abs(x_new - x) < tol:\n",
    "            break\n",
    "        x = x_new\n",
    "    return x, iteraciones\n",
    "\n",
    "# Configuración inicial\n",
    "x0 = -500  # Punto inicial\n",
    "solucion, iteraciones = newton_raphson(x0)\n",
    "\n",
    "# Crear datos para graficar el polinomio\n",
    "x_vals = np.linspace(-600, 100, 1000)\n",
    "y_vals = f(x_vals)\n",
    "\n",
    "# Configurar la gráfica\n",
    "fig, ax = plt.subplots(figsize=(10, 6))\n",
    "ax.plot(x_vals, y_vals, label=\"Polinomio\", color=\"blue\")\n",
    "ax.axhline(0, color=\"black\", linewidth=0.8, linestyle=\"--\")\n",
    "point, = ax.plot([], [], \"ro\", markersize=8, label=\"Iteración\")\n",
    "\n",
    "# Límites para ver mejor la raíz\n",
    "ax.set_xlim(-550, 0)\n",
    "ax.set_ylim(-1e10, 1e10)\n",
    "\n",
    "# Añadir texto para mostrar el valor actual\n",
    "texto = ax.text(0.02, 0.95, '', transform=ax.transAxes)\n",
    "\n",
    "# Animación\n",
    "def update(frame):\n",
    "    x = iteraciones[frame]\n",
    "    y = f(x)\n",
    "    point.set_data([x], [y])\n",
    "    # Actualizar texto con la iteración actual\n",
    "    texto.set_text(f'Iteración {frame}: x = {x:.6f}, f(x) = {y:.6f}')\n",
    "    return point, texto\n",
    "\n",
    "ani = FuncAnimation(fig, update, frames=len(iteraciones), interval=500, repeat=True, blit=True)\n",
    "\n",
    "# Guardar la animación directamente a un archivo\n",
    "ani.save('newton_raphson.gif', writer='pillow', fps=2)\n",
    "\n",
    "# Mostrar la gráfica\n",
    "ax.legend()\n",
    "plt.title(\"Método de Newton-Raphson\")\n",
    "plt.xlabel(\"x\")\n",
    "plt.ylabel(\"f(x)\")\n",
    "\n",
    "# En lugar de plt.show(), guardar y abrir\n",
    "plt.tight_layout()\n",
    "plt.savefig('grafico_final.png')\n",
    "\n",
    "print(\"Animación guardada como 'Ejercicio1.gif'\")\n",
    "print(f\"La solución encontrada es x = {solucion:.6f}\")"
   ],
   "outputs": [
    {
     "name": "stdout",
     "output_type": "stream",
     "text": [
      "Animación guardada como 'Ejercicio1.gif'\n",
      "La solución encontrada es x = -152.000000\n"
     ]
    }
   ],
   "execution_count": 2
  },
  {
   "metadata": {},
   "cell_type": "code",
   "outputs": [],
   "execution_count": null,
   "source": "",
   "id": "51164a354cb34262"
  }
 ],
 "metadata": {
  "kernelspec": {
   "display_name": "Python 3",
   "language": "python",
   "name": "python3"
  },
  "language_info": {
   "codemirror_mode": {
    "name": "ipython",
    "version": 2
   },
   "file_extension": ".py",
   "mimetype": "text/x-python",
   "name": "python",
   "nbconvert_exporter": "python",
   "pygments_lexer": "ipython2",
   "version": "2.7.6"
  }
 },
 "nbformat": 4,
 "nbformat_minor": 5
}
