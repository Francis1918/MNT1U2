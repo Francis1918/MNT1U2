{
 "cells": [
  {
   "metadata": {},
   "cell_type": "markdown",
   "source": "Ejercicio #1.- Encuentre todas las raíces del polinomio x4+540∗x3+109124∗x2+9781632∗x+328188672=0\n",
   "id": "a6726a47f6a74f87"
  },
  {
   "cell_type": "code",
   "execution_count": null,
   "id": "initial_id",
   "metadata": {
    "collapsed": true
   },
   "outputs": [],
   "source": [
    ""
   ]
  }
 ],
 "metadata": {
  "kernelspec": {
   "display_name": "Python 3",
   "language": "python",
   "name": "python3"
  },
  "language_info": {
   "codemirror_mode": {
    "name": "ipython",
    "version": 2
   },
   "file_extension": ".py",
   "mimetype": "text/x-python",
   "name": "python",
   "nbconvert_exporter": "python",
   "pygments_lexer": "ipython2",
   "version": "2.7.6"
  }
 },
 "nbformat": 4,
 "nbformat_minor": 5
}
